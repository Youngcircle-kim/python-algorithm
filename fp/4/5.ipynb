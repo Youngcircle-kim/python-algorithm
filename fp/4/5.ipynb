{
 "cells": [
  {
   "cell_type": "code",
   "execution_count": 9,
   "outputs": [
    {
     "name": "stdout",
     "output_type": "stream",
     "text": [
      "score = $80, 합격입니다.\n",
      "score = $40 불합격입니다.\n",
      "score = $70, 합격입니다.\n",
      "score = $30 불합격입니다.\n",
      "score = $90, 합격입니다.\n",
      "score = $30 불합격입니다.\n",
      "score = $42 불합격입니다.\n",
      "score = $55 불합격입니다.\n",
      "score = $89, 합격입니다.\n",
      "score = $100, 합격입니다.\n",
      "0.0001289844512939453\n"
     ]
    }
   ],
   "source": [
    "##실습 문제 1-1\n",
    "import time\n",
    "lst = [80, 40, 70, 30, 90, 30, 42, 55, 89, 100]\n",
    "\n",
    "start = time.time()\n",
    "for i in range(len(lst)):\n",
    "    if lst[i] >= 70:\n",
    "        print(f'score = ${lst[i]}, 합격입니다.')\n",
    "    else:\n",
    "        print(f'score = ${lst[i]} 불합격입니다.')\n",
    "end = time.time()\n",
    "print(f'{end-start}')"
   ],
   "metadata": {
    "collapsed": false
   }
  },
  {
   "cell_type": "code",
   "execution_count": 3,
   "outputs": [
    {
     "name": "stdout",
     "output_type": "stream",
     "text": [
      "score = $100, 합격입니다.\n",
      "score = $100 불합격입니다.\n",
      "score = $100, 합격입니다.\n",
      "score = $100 불합격입니다.\n",
      "score = $100, 합격입니다.\n",
      "score = $100 불합격입니다.\n",
      "score = $100 불합격입니다.\n",
      "score = $100 불합격입니다.\n",
      "score = $100, 합격입니다.\n",
      "score = $100, 합격입니다.\n",
      "0.0001270771026611328\n"
     ]
    }
   ],
   "source": [
    "##실습 문제 1-2\n",
    "lst = [80, 40, 70, 30, 90, 30, 42, 55, 89, 100]\n",
    "\n",
    "start = time.time()\n",
    "for score in lst:\n",
    "    if score >= 70:\n",
    "        print(f'score = ${lst[i]}, 합격입니다.')\n",
    "    else:\n",
    "        print(f'score = ${lst[i]} 불합격입니다.')\n",
    "end = time.time()\n",
    "print(f'{end-start}')"
   ],
   "metadata": {
    "collapsed": false
   }
  },
  {
   "cell_type": "code",
   "execution_count": 6,
   "outputs": [
    {
     "name": "stdout",
     "output_type": "stream",
     "text": [
      "score = $80, 합격입니다.\n",
      "score = $40 불합격입니다.\n",
      "score = $70, 합격입니다.\n",
      "score = $30 불합격입니다.\n",
      "score = $90, 합격입니다.\n",
      "score = $30 불합격입니다.\n",
      "score = $42 불합격입니다.\n",
      "score = $55 불합격입니다.\n",
      "score = $89, 합격입니다.\n",
      "score = $100, 합격입니다.\n",
      "0.0001709461212158203\n"
     ]
    }
   ],
   "source": [
    "##실습 문제 1-3\n",
    "lst = [80, 40, 70, 30, 90, 30, 42, 55, 89, 100]\n",
    "i =0\n",
    "\n",
    "start = time.time()\n",
    "while i<10:\n",
    "    if lst[i] >= 70:\n",
    "        print(f'score = ${lst[i]}, 합격입니다.')\n",
    "    else:\n",
    "        print(f'score = ${lst[i]} 불합격입니다.')\n",
    "    i += 1\n",
    "end = time.time()\n",
    "print(f'{end-start}')"
   ],
   "metadata": {
    "collapsed": false
   }
  },
  {
   "cell_type": "code",
   "execution_count": 7,
   "outputs": [
    {
     "name": "stdout",
     "output_type": "stream",
     "text": [
      "score = $80, 합격입니다.\n",
      "score = $40 불합격입니다.\n",
      "score = $70, 합격입니다.\n",
      "score = $30 불합격입니다.\n",
      "score = $90, 합격입니다.\n",
      "score = $30 불합격입니다.\n",
      "score = $42 불합격입니다.\n",
      "score = $55 불합격입니다.\n",
      "score = $89, 합격입니다.\n",
      "score = $100, 합격입니다.\n",
      "0.0006070137023925781\n"
     ]
    }
   ],
   "source": [
    "##실습 문제 1-4\n",
    "lst = [80, 40, 70, 30, 90, 30, 42, 55, 89, 100]\n",
    "i = 0\n",
    "start = time.time()\n",
    "while 1:\n",
    "    if lst[i] >= 70:\n",
    "        print(f'score = ${lst[i]}, 합격입니다.')\n",
    "    else:\n",
    "        print(f'score = ${lst[i]} 불합격입니다.')\n",
    "    if i == 9:\n",
    "        break;\n",
    "    i += 1\n",
    "\n",
    "end = time.time()\n",
    "print(f'{end-start}')"
   ],
   "metadata": {
    "collapsed": false
   }
  },
  {
   "cell_type": "code",
   "execution_count": 12,
   "outputs": [
    {
     "ename": "ValueError",
     "evalue": "invalid literal for int() with base 10: 'EOF'",
     "output_type": "error",
     "traceback": [
      "\u001B[0;31m---------------------------------------------------------------------------\u001B[0m",
      "\u001B[0;31mValueError\u001B[0m                                Traceback (most recent call last)",
      "Cell \u001B[0;32mIn[12], line 4\u001B[0m\n\u001B[1;32m      2\u001B[0m lst \u001B[38;5;241m=\u001B[39m []\n\u001B[1;32m      3\u001B[0m \u001B[38;5;28;01mwhile\u001B[39;00m \u001B[38;5;241m1\u001B[39m:\n\u001B[0;32m----> 4\u001B[0m     input_score \u001B[38;5;241m=\u001B[39m \u001B[38;5;28;43mint\u001B[39;49m\u001B[43m(\u001B[49m\u001B[38;5;28;43minput\u001B[39;49m\u001B[43m(\u001B[49m\u001B[38;5;124;43m'\u001B[39;49m\u001B[38;5;124;43mInput score : \u001B[39;49m\u001B[38;5;124;43m'\u001B[39;49m\u001B[43m)\u001B[49m\u001B[43m)\u001B[49m\n\u001B[1;32m      5\u001B[0m     \u001B[38;5;28;01mif\u001B[39;00m input_score \u001B[38;5;241m==\u001B[39m \u001B[38;5;124m'\u001B[39m\u001B[38;5;124mEOF\u001B[39m\u001B[38;5;124m'\u001B[39m:\n\u001B[1;32m      6\u001B[0m         \u001B[38;5;28;01mbreak\u001B[39;00m\n",
      "\u001B[0;31mValueError\u001B[0m: invalid literal for int() with base 10: 'EOF'"
     ]
    }
   ],
   "source": [
    "#실습 문제 2\n",
    "lst = []\n",
    "while 1:\n",
    "    input_score = input('Input score : ')\n",
    "    if input_score == 'EOF':\n",
    "        break\n",
    "    lst.append(int(input_score))\n",
    "\n",
    "for score in lst:\n",
    "    if score >= 70:\n",
    "        print(f'score = ${lst[i]}, 합격입니다.')\n",
    "    else:\n",
    "        print(f'score = ${lst[i]} 불합격입니다.')"
   ],
   "metadata": {
    "collapsed": false
   }
  },
  {
   "cell_type": "code",
   "execution_count": null,
   "outputs": [],
   "source": [
    "#실습 문제 2\n",
    "lst = []\n",
    "l = [1]\n",
    "for x in l:\n",
    "    input_score = input('Input score : ')\n",
    "    if input_score == 'EOF':\n",
    "        break\n",
    "    lst.append(int(input_score))\n",
    "    l.append(x+1)\n",
    "\n",
    "for score in lst:\n",
    "    if score >= 70:\n",
    "        print(f'score = ${lst[i]}, 합격입니다.')\n",
    "    else:\n",
    "        print(f'score = ${lst[i]} 불합격입니다.')"
   ],
   "metadata": {
    "collapsed": false
   }
  },
  {
   "cell_type": "code",
   "execution_count": 16,
   "outputs": [
    {
     "name": "stdout",
     "output_type": "stream",
     "text": [
      "1 x 1 = 1\n",
      "1 x 2 = 2\n",
      "1 x 3 = 3\n",
      "1 x 4 = 4\n",
      "1 x 5 = 5\n",
      "1 x 6 = 6\n",
      "1 x 7 = 7\n",
      "1 x 8 = 8\n",
      "1 x 9 = 9\n",
      "\n",
      "2 x 1 = 2\n",
      "2 x 2 = 4\n",
      "2 x 3 = 6\n",
      "2 x 4 = 8\n",
      "2 x 5 = 10\n",
      "2 x 6 = 12\n",
      "2 x 7 = 14\n",
      "2 x 8 = 16\n",
      "2 x 9 = 18\n",
      "\n",
      "3 x 1 = 3\n",
      "3 x 2 = 6\n",
      "3 x 3 = 9\n",
      "3 x 4 = 12\n",
      "3 x 5 = 15\n",
      "3 x 6 = 18\n",
      "3 x 7 = 21\n",
      "3 x 8 = 24\n",
      "3 x 9 = 27\n",
      "\n",
      "4 x 1 = 4\n",
      "4 x 2 = 8\n",
      "4 x 3 = 12\n",
      "4 x 4 = 16\n",
      "4 x 5 = 20\n",
      "4 x 6 = 24\n",
      "4 x 7 = 28\n",
      "4 x 8 = 32\n",
      "4 x 9 = 36\n",
      "\n",
      "5 x 1 = 5\n",
      "5 x 2 = 10\n",
      "5 x 3 = 15\n",
      "5 x 4 = 20\n",
      "5 x 5 = 25\n",
      "5 x 6 = 30\n",
      "5 x 7 = 35\n",
      "5 x 8 = 40\n",
      "5 x 9 = 45\n",
      "\n",
      "6 x 1 = 6\n",
      "6 x 2 = 12\n",
      "6 x 3 = 18\n",
      "6 x 4 = 24\n",
      "6 x 5 = 30\n",
      "6 x 6 = 36\n",
      "6 x 7 = 42\n",
      "6 x 8 = 48\n",
      "6 x 9 = 54\n",
      "\n",
      "7 x 1 = 7\n",
      "7 x 2 = 14\n",
      "7 x 3 = 21\n",
      "7 x 4 = 28\n",
      "7 x 5 = 35\n",
      "7 x 6 = 42\n",
      "7 x 7 = 49\n",
      "7 x 8 = 56\n",
      "7 x 9 = 63\n",
      "\n",
      "8 x 1 = 8\n",
      "8 x 2 = 16\n",
      "8 x 3 = 24\n",
      "8 x 4 = 32\n",
      "8 x 5 = 40\n",
      "8 x 6 = 48\n",
      "8 x 7 = 56\n",
      "8 x 8 = 64\n",
      "8 x 9 = 72\n",
      "\n",
      "9 x 1 = 9\n",
      "9 x 2 = 18\n",
      "9 x 3 = 27\n",
      "9 x 4 = 36\n",
      "9 x 5 = 45\n",
      "9 x 6 = 54\n",
      "9 x 7 = 63\n",
      "9 x 8 = 72\n",
      "9 x 9 = 81\n",
      "\n"
     ]
    }
   ],
   "source": [
    "# 3\n",
    "for i in range(1, 10):\n",
    "    for j in range(1, 10):\n",
    "        print(f'{i} x {j} = {i*j}')"
   ],
   "metadata": {
    "collapsed": false
   }
  },
  {
   "cell_type": "code",
   "execution_count": 27,
   "outputs": [
    {
     "name": "stdout",
     "output_type": "stream",
     "text": [
      "low = 0.0, high = 9, sqrt = 4.5\n",
      "low = 0.0, high = 4.5, sqrt = 2.25\n",
      "low = 2.25, high = 4.5, sqrt = 3.375\n",
      "low = 2.25, high = 3.375, sqrt = 2.8125\n",
      "low = 2.8125, high = 3.375, sqrt = 3.09375\n",
      "low = 2.8125, high = 3.09375, sqrt = 2.953125\n",
      "low = 2.953125, high = 3.09375, sqrt = 3.0234375\n",
      "low = 2.953125, high = 3.0234375, sqrt = 2.98828125\n",
      "low = 2.98828125, high = 3.0234375, sqrt = 3.005859375\n",
      "low = 2.98828125, high = 3.005859375, sqrt = 2.9970703125\n",
      "low = 2.9970703125, high = 3.005859375, sqrt = 3.00146484375\n",
      "9's squart root is 3.00146484375\n",
      "low = 0.0, high = 25, sqrt = 12.5\n",
      "low = 0.0, high = 12.5, sqrt = 6.25\n",
      "low = 0.0, high = 6.25, sqrt = 3.125\n",
      "low = 3.125, high = 6.25, sqrt = 4.6875\n",
      "low = 4.6875, high = 6.25, sqrt = 5.46875\n",
      "low = 4.6875, high = 5.46875, sqrt = 5.078125\n",
      "low = 4.6875, high = 5.078125, sqrt = 4.8828125\n",
      "low = 4.8828125, high = 5.078125, sqrt = 4.98046875\n",
      "low = 4.98046875, high = 5.078125, sqrt = 5.029296875\n",
      "low = 4.98046875, high = 5.029296875, sqrt = 5.0048828125\n",
      "low = 4.98046875, high = 5.0048828125, sqrt = 4.99267578125\n",
      "low = 4.99267578125, high = 5.0048828125, sqrt = 4.998779296875\n",
      "low = 4.998779296875, high = 5.0048828125, sqrt = 5.0018310546875\n",
      "low = 4.998779296875, high = 5.0018310546875, sqrt = 5.00030517578125\n",
      "25's squart root is 5.00030517578125\n",
      "The input numbers are [9, 25]\n",
      "The squre roots of inputs are [3.00146484375, 5.00030517578125]\n"
     ]
    }
   ],
   "source": [
    "# 4\n",
    "lst =[]; res =[]\n",
    "while 1:\n",
    "    x = input('숫자를 입력하세요: ')\n",
    "    if x == 'EOF':\n",
    "        break\n",
    "    lst.append(int(x))\n",
    "for n in lst:\n",
    "    epsilon = 0.01\n",
    "    numGuesses = 0\n",
    "    low = 0.0\n",
    "    high = max(1.0 , n)\n",
    "    ans = (high + low)/2.0\n",
    "\n",
    "    while abs(ans**2 - n) >= epsilon:\n",
    "        print(f'low = {low}, high = {high}, sqrt = {ans}')\n",
    "        numGuesses += 1\n",
    "        if ans**2 < n:\n",
    "            low = ans\n",
    "        else:\n",
    "            high = ans\n",
    "        ans = (high + low)/2.0\n",
    "    res.append(ans)\n",
    "\n",
    "    print(f'low = {low}, high = {high}, sqrt = {ans}')\n",
    "    print(f'{n}\\'s squart root is {ans}')\n",
    "\n",
    "print(f'The input numbers are {lst}')\n",
    "print(f'The squre roots of inputs are {res}')"
   ],
   "metadata": {
    "collapsed": false
   }
  },
  {
   "cell_type": "code",
   "execution_count": 21,
   "outputs": [
    {
     "name": "stdout",
     "output_type": "stream",
     "text": [
      "low= 0.0 high= 9 x_sqrt= 4.5\n",
      "low= 0.0 high= 4.5 x_sqrt= 2.25\n",
      "low= 2.25 high= 4.5 x_sqrt= 3.375\n",
      "low= 2.25 high= 3.375 x_sqrt= 2.8125\n",
      "low= 2.8125 high= 3.375 x_sqrt= 3.09375\n",
      "low= 2.8125 high= 3.09375 x_sqrt= 2.953125\n",
      "low= 2.953125 high= 3.09375 x_sqrt= 3.0234375\n",
      "low= 2.953125 high= 3.0234375 x_sqrt= 2.98828125\n",
      "low= 2.98828125 high= 3.0234375 x_sqrt= 3.005859375\n",
      "low= 2.98828125 high= 3.005859375 x_sqrt= 2.9970703125\n",
      "9 's squre root is 3.00146484375\n"
     ]
    }
   ],
   "source": [
    "x=(int(input(\"Input number :\")))\n",
    "\n",
    "epsilon=0.01\n",
    "low=0.0\n",
    "high=max(1.0,x)\n",
    "x_sqrt=(high+low)/2\n",
    "\n",
    "while abs(x_sqrt**2-x) >= epsilon:\n",
    "    print('low=', low, 'high=', high, 'x_sqrt=', x_sqrt)\n",
    "    if x_sqrt**2<x:\n",
    "        low=x_sqrt\n",
    "    else:\n",
    "        high=x_sqrt\n",
    "    x_sqrt=(high + low)/2\n",
    "\n",
    "print(x,\"'s squre root is\",x_sqrt)"
   ],
   "metadata": {
    "collapsed": false
   }
  },
  {
   "cell_type": "code",
   "execution_count": null,
   "outputs": [],
   "source": [],
   "metadata": {
    "collapsed": false
   }
  }
 ],
 "metadata": {
  "kernelspec": {
   "display_name": "Python 3",
   "language": "python",
   "name": "python3"
  },
  "language_info": {
   "codemirror_mode": {
    "name": "ipython",
    "version": 2
   },
   "file_extension": ".py",
   "mimetype": "text/x-python",
   "name": "python",
   "nbconvert_exporter": "python",
   "pygments_lexer": "ipython2",
   "version": "2.7.6"
  }
 },
 "nbformat": 4,
 "nbformat_minor": 0
}
